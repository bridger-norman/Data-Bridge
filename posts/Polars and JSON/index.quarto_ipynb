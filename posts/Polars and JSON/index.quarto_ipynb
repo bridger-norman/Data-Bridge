{
  "cells": [
    {
      "cell_type": "markdown",
      "metadata": {},
      "source": [
        "---\n",
        "title: \"JSON Manipulation in Polars\"\n",
        "author: \"Bridger Norman\"\n",
        "date: \"2024-10-010\"\n",
        "categories: [Python, Polars, JSON ]\n",
        "---"
      ],
      "id": "4a66c6d6"
    },
    {
      "cell_type": "code",
      "metadata": {},
      "source": [
        "import polars as pl"
      ],
      "id": "35ea804c",
      "execution_count": null,
      "outputs": []
    }
  ],
  "metadata": {
    "kernelspec": {
      "name": "python3",
      "language": "python",
      "display_name": "Python 3 (ipykernel)",
      "path": "/Users/bridgernorman/Downloads/Semester 10 /Senior Project/Data Bridge/.venv/share/jupyter/kernels/python3"
    }
  },
  "nbformat": 4,
  "nbformat_minor": 5
}